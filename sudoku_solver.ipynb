{
  "nbformat": 4,
  "nbformat_minor": 0,
  "metadata": {
    "colab": {
      "provenance": [],
      "authorship_tag": "ABX9TyOW2zQK6Q05FnmQjXnehOjb",
      "include_colab_link": true
    },
    "kernelspec": {
      "name": "python3",
      "display_name": "Python 3"
    },
    "language_info": {
      "name": "python"
    }
  },
  "cells": [
    {
      "cell_type": "markdown",
      "metadata": {
        "id": "view-in-github",
        "colab_type": "text"
      },
      "source": [
        "<a href=\"https://colab.research.google.com/github/lnsayer/scientific_computing_with_python/blob/main/sudoku_solver.ipynb\" target=\"_parent\"><img src=\"https://colab.research.google.com/assets/colab-badge.svg\" alt=\"Open In Colab\"/></a>"
      ]
    },
    {
      "cell_type": "code",
      "execution_count": 1,
      "metadata": {
        "id": "5dMPCyQYM3Yt"
      },
      "outputs": [],
      "source": [
        "class Board:\n",
        "    def __init__(self, board):\n",
        "        self.board = board\n",
        "\n",
        "    def __str__(self):\n",
        "        board_str = ''\n",
        "        for row in self.board:\n",
        "            row_str = [str(i) if i else '*' for i in row]\n",
        "            board_str += ' '.join(row_str)\n",
        "            board_str += '\\n'\n",
        "        return board_str\n",
        "\n",
        "    def find_empty_cell(self):\n",
        "        for row, contents in enumerate(self.board):\n",
        "            try:\n",
        "                col = contents.index(0)\n",
        "                return row, col\n",
        "            except ValueError:\n",
        "                pass\n",
        "        return None\n",
        "\n",
        "    def valid_in_row(self, row, num):\n",
        "        return num not in self.board[row]\n",
        "\n",
        "    def valid_in_col(self, col, num):\n",
        "        return all(self.board[row][col] != num for row in range(9))\n",
        "\n",
        "    def valid_in_square(self, row, col, num):\n",
        "        row_start = (row // 3) * 3\n",
        "        col_start = (col // 3) * 3\n",
        "        for row_no in range(row_start, row_start + 3):\n",
        "            for col_no in range(col_start, col_start + 3):\n",
        "                if self.board[row_no][col_no] == num:\n",
        "                    return False\n",
        "        return True\n",
        "\n",
        "    def is_valid(self, empty, num):\n",
        "        row, col = empty\n",
        "        valid_in_row = self.valid_in_row(row, num)\n",
        "        valid_in_col = self.valid_in_col(col, num)\n",
        "        valid_in_square = self.valid_in_square(row, col, num)\n",
        "        return all([valid_in_row, valid_in_col, valid_in_square])\n",
        "\n",
        "    def solver(self):\n",
        "        if (next_empty := self.find_empty_cell()) is None:\n",
        "            return True\n",
        "        for guess in range(1, 10):\n",
        "            if self.is_valid(next_empty, guess):\n",
        "                row, col = next_empty\n",
        "                self.board[row][col] = guess\n",
        "                if self.solver():\n",
        "                    return True\n",
        "                self.board[row][col] = 0\n",
        "        return False\n",
        "\n"
      ]
    },
    {
      "cell_type": "code",
      "source": [
        "def solve_sudoku(board):\n",
        "    gameboard = Board(board)\n",
        "    print(f'Puzzle to solve:\\n{gameboard}')\n",
        "    if gameboard.solver():\n",
        "        print(f'Solved puzzle:\\n{gameboard}')\n",
        "    else:\n",
        "        print('The provided puzzle is unsolvable.')\n",
        "    return gameboard"
      ],
      "metadata": {
        "id": "8JK8zPKENEv9"
      },
      "execution_count": 2,
      "outputs": []
    },
    {
      "cell_type": "code",
      "source": [
        "puzzle = [\n",
        "  [0, 0, 2, 0, 0, 8, 0, 0, 0],\n",
        "  [0, 0, 0, 0, 0, 3, 7, 6, 2],\n",
        "  [4, 3, 0, 0, 0, 0, 8, 0, 0],\n",
        "  [0, 5, 0, 0, 3, 0, 0, 9, 0],\n",
        "  [0, 4, 0, 0, 0, 0, 0, 2, 6],\n",
        "  [0, 0, 0, 4, 6, 7, 0, 0, 0],\n",
        "  [0, 8, 6, 7, 0, 4, 0, 0, 0],\n",
        "  [0, 0, 0, 5, 1, 9, 0, 0, 8],\n",
        "  [1, 7, 0, 0, 0, 6, 0, 0, 5]\n",
        "]"
      ],
      "metadata": {
        "id": "VxMVrtctNH5B"
      },
      "execution_count": 3,
      "outputs": []
    },
    {
      "cell_type": "code",
      "source": [
        "solve_sudoku(puzzle)"
      ],
      "metadata": {
        "colab": {
          "base_uri": "https://localhost:8080/"
        },
        "id": "rNdcM2xcNYyo",
        "outputId": "eea95180-7912-442a-ef88-60193d6a162d"
      },
      "execution_count": 4,
      "outputs": [
        {
          "output_type": "stream",
          "name": "stdout",
          "text": [
            "Puzzle to solve:\n",
            "* * 2 * * 8 * * *\n",
            "* * * * * 3 7 6 2\n",
            "4 3 * * * * 8 * *\n",
            "* 5 * * 3 * * 9 *\n",
            "* 4 * * * * * 2 6\n",
            "* * * 4 6 7 * * *\n",
            "* 8 6 7 * 4 * * *\n",
            "* * * 5 1 9 * * 8\n",
            "1 7 * * * 6 * * 5\n",
            "\n",
            "Solved puzzle:\n",
            "9 6 2 1 7 8 3 5 4\n",
            "8 1 5 9 4 3 7 6 2\n",
            "4 3 7 6 5 2 8 1 9\n",
            "6 5 8 2 3 1 4 9 7\n",
            "7 4 3 8 9 5 1 2 6\n",
            "2 9 1 4 6 7 5 8 3\n",
            "5 8 6 7 2 4 9 3 1\n",
            "3 2 4 5 1 9 6 7 8\n",
            "1 7 9 3 8 6 2 4 5\n",
            "\n"
          ]
        },
        {
          "output_type": "execute_result",
          "data": {
            "text/plain": [
              "<__main__.Board at 0x7c62340daa90>"
            ]
          },
          "metadata": {},
          "execution_count": 4
        }
      ]
    },
    {
      "cell_type": "code",
      "source": [
        "extreme_puzzle = [\n",
        "  [0, 0, 0, 9, 1, 0, 0, 0, 0],\n",
        "  [9, 0, 0, 6, 0, 0, 3, 0, 0],\n",
        "  [0, 8, 3, 0, 5, 0, 0, 7, 0],\n",
        "  [0, 0, 0, 0, 0, 0, 0, 0, 5],\n",
        "  [0, 0, 0, 0, 0, 0, 0, 0, 0],\n",
        "  [2, 0, 0, 0, 0, 1, 4, 0, 7],\n",
        "  [1, 0, 2, 0, 7, 0, 6, 0, 0],\n",
        "  [0, 0, 4, 0, 0, 0, 2, 9, 0],\n",
        "  [0, 0, 0, 0, 6, 0, 0, 0, 0]\n",
        "]"
      ],
      "metadata": {
        "id": "u0tShQ-ANasg"
      },
      "execution_count": 5,
      "outputs": []
    },
    {
      "cell_type": "code",
      "source": [
        "solve_sudoku(extreme_puzzle)"
      ],
      "metadata": {
        "colab": {
          "base_uri": "https://localhost:8080/"
        },
        "id": "iu3crcfbORqX",
        "outputId": "a11d57b3-6512-4a9d-ca6f-455e00139a63"
      },
      "execution_count": 7,
      "outputs": [
        {
          "output_type": "stream",
          "name": "stdout",
          "text": [
            "Puzzle to solve:\n",
            "4 2 7 9 1 3 5 8 6\n",
            "9 1 5 6 8 7 3 2 4\n",
            "6 8 3 2 5 4 1 7 9\n",
            "3 4 9 7 2 6 8 1 5\n",
            "8 7 1 3 4 5 9 6 2\n",
            "2 5 6 8 9 1 4 3 7\n",
            "1 3 2 4 7 9 6 5 8\n",
            "7 6 4 5 3 8 2 9 1\n",
            "5 9 8 1 6 2 7 4 3\n",
            "\n",
            "Solved puzzle:\n",
            "4 2 7 9 1 3 5 8 6\n",
            "9 1 5 6 8 7 3 2 4\n",
            "6 8 3 2 5 4 1 7 9\n",
            "3 4 9 7 2 6 8 1 5\n",
            "8 7 1 3 4 5 9 6 2\n",
            "2 5 6 8 9 1 4 3 7\n",
            "1 3 2 4 7 9 6 5 8\n",
            "7 6 4 5 3 8 2 9 1\n",
            "5 9 8 1 6 2 7 4 3\n",
            "\n"
          ]
        },
        {
          "output_type": "execute_result",
          "data": {
            "text/plain": [
              "<__main__.Board at 0x7c62349d7190>"
            ]
          },
          "metadata": {},
          "execution_count": 7
        }
      ]
    },
    {
      "cell_type": "code",
      "source": [],
      "metadata": {
        "id": "WDxNYfKfOU5p"
      },
      "execution_count": null,
      "outputs": []
    }
  ]
}