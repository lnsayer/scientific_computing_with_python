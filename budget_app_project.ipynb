{
  "nbformat": 4,
  "nbformat_minor": 0,
  "metadata": {
    "colab": {
      "provenance": [],
      "authorship_tag": "ABX9TyN+pHd0eW+FnqslarqjpMru",
      "include_colab_link": true
    },
    "kernelspec": {
      "name": "python3",
      "display_name": "Python 3"
    },
    "language_info": {
      "name": "python"
    }
  },
  "cells": [
    {
      "cell_type": "markdown",
      "metadata": {
        "id": "view-in-github",
        "colab_type": "text"
      },
      "source": [
        "<a href=\"https://colab.research.google.com/github/lnsayer/scientific_computing_with_python/blob/main/budget_app_project.ipynb\" target=\"_parent\"><img src=\"https://colab.research.google.com/assets/colab-badge.svg\" alt=\"Open In Colab\"/></a>"
      ]
    },
    {
      "cell_type": "code",
      "execution_count": 1,
      "metadata": {
        "colab": {
          "base_uri": "https://localhost:8080/",
          "height": 36
        },
        "id": "zz6D2StxYqUS",
        "outputId": "3726fd99-8584-4fbc-dc22-c112102877ae"
      },
      "outputs": [
        {
          "output_type": "execute_result",
          "data": {
            "text/plain": [
              "\"\\nfood = Category('Food')\\nfood.deposit(900, 'deposit')\\nfood.withdraw(45.67, 'milk, cereal, eggs, bacon, bread')\\nprint(food)\\n\""
            ],
            "application/vnd.google.colaboratory.intrinsic+json": {
              "type": "string"
            }
          },
          "metadata": {},
          "execution_count": 1
        }
      ],
      "source": [
        "class Category:\n",
        "    def __init__(self, name):\n",
        "        self.name= name\n",
        "        self.ledger = []\n",
        "\n",
        "    def __str__(self):\n",
        "        string = \"\"\n",
        "        len_asterisk = 30-len(self.name)\n",
        "        right_asterisk = len_asterisk//2\n",
        "        left_asterisk = len_asterisk-right_asterisk\n",
        "        string += \"*\"*left_asterisk+f\"{self.name}\"+\"*\"*right_asterisk+\"\\n\"\n",
        "\n",
        "        for items in self.ledger:\n",
        "            desc = items['description'][:23]\n",
        "            amt = f\"{items['amount']:.2f}\"[-7:]\n",
        "            string += f\"{desc:<23}{amt:>7}\\n\"\n",
        "        string += f\"Total: {self.get_balance():.2f}\"\n",
        "\n",
        "        return str(string)\n",
        "\n",
        "    def deposit(self, amount, description=\"\"):\n",
        "        dict_to_add = {'amount': amount, 'description': description}\n",
        "        self.ledger.append(dict_to_add)\n",
        "\n",
        "    def withdraw(self, amount, description=\"\"):\n",
        "        dict_to_add = {'amount': -amount, 'description': description}\n",
        "        if self.check_funds(amount):\n",
        "            self.ledger.append(dict_to_add)\n",
        "            return True\n",
        "        else:\n",
        "            return False\n",
        "\n",
        "    def get_balance(self):\n",
        "        sum = 0\n",
        "        for item in self.ledger:\n",
        "            sum += item[\"amount\"]\n",
        "        return sum\n",
        "\n",
        "    def transfer(self, amount, other_category):\n",
        "        if self.check_funds(amount):\n",
        "            self.withdraw(amount, description = f\"Transfer to {other_category.name}\")\n",
        "            other_category.deposit(amount, description = f\"Transfer from {self.name}\")\n",
        "            return True\n",
        "        else:\n",
        "            return False\n",
        "\n",
        "    def check_funds(self, amount):\n",
        "        if amount > self.get_balance():\n",
        "            return False\n",
        "        else:\n",
        "            return True\n",
        "\n",
        "\n",
        "food = Category('Food')\n",
        "food.deposit(1000, 'deposit')\n",
        "food.withdraw(10.15, 'groceries')\n",
        "food.withdraw(15.89, 'restaurant and more food for dessert')\n",
        "clothing = Category('Clothing')\n",
        "food.transfer(50, clothing)\n",
        "clothing.withdraw(10, 'Jacket')\n",
        "auto = Category('Auto')\n",
        "auto.deposit(100, 'Car parts')\n",
        "auto.withdraw(30, 'Car spending')\n",
        "# print(food)\n",
        "# print(clothing)\n",
        "\n",
        "\"\"\"\n",
        "food = Category('Food')\n",
        "food.deposit(900, 'deposit')\n",
        "food.withdraw(45.67, 'milk, cereal, eggs, bacon, bread')\n",
        "print(food)\n",
        "\"\"\""
      ]
    },
    {
      "cell_type": "code",
      "source": [
        "def create_spend_chart(categories):\n",
        "    dictionary = {}\n",
        "    total = 0\n",
        "    for item in categories:\n",
        "        dictionary[f\"{item.name}\"] = 0\n",
        "        for transactions in item.ledger:\n",
        "            if transactions[\"amount\"] < 0:\n",
        "                dictionary[f\"{item.name}\"] += transactions[\"amount\"]\n",
        "        total += dictionary[f\"{item.name}\"]\n",
        "    print(dictionary)\n",
        "    for key in dictionary:\n",
        "        dictionary[key] = ((dictionary[key]/total)*100)//10*10\n",
        "    print(dictionary)\n",
        "    string = \"Percentage spent by category\\n\"\n",
        "    for i in range(100, -1, -10):\n",
        "        temp_string = \"\"\n",
        "        for item in dictionary:\n",
        "            if dictionary[item] >= i:\n",
        "                temp_string += \"o  \"\n",
        "        string += f\"{i:>3}| \"+temp_string+\"\\n\"\n",
        "    string += \" \"*4 +\"-\"*(3*len(dictionary)+1)\n",
        "    string += \"\\n\"\n",
        "    max_key_length = max(len(key) for key in dictionary)\n",
        "\n",
        "\n",
        "    for j in range(max_key_length):\n",
        "        temp_string = \"\"\n",
        "        for item in dictionary:\n",
        "            try:\n",
        "                temp_string += f\"{item[j]}  \"\n",
        "            except IndexError:\n",
        "                temp_string += 3*\" \"\n",
        "        string += f\"     {temp_string}\\n\"\n",
        "\n",
        "    return string\n",
        "\n",
        "\n",
        "    for item in categories:\n",
        "        pass\n",
        "\n",
        "\n",
        "\n",
        "\n",
        "print(create_spend_chart([food, clothing, auto]))\n",
        "print(round(79//10)*10)"
      ],
      "metadata": {
        "colab": {
          "base_uri": "https://localhost:8080/"
        },
        "id": "RTPMPGkTYu33",
        "outputId": "304ff586-24fb-4cc0-ca1a-a81301ac1ba1"
      },
      "execution_count": 2,
      "outputs": [
        {
          "output_type": "stream",
          "name": "stdout",
          "text": [
            "{'Food': -76.03999999999999, 'Clothing': -10, 'Auto': -30}\n",
            "{'Food': 60.0, 'Clothing': 0.0, 'Auto': 20.0}\n",
            "Percentage spent by category\n",
            "100| \n",
            " 90| \n",
            " 80| \n",
            " 70| \n",
            " 60| o  \n",
            " 50| o  \n",
            " 40| o  \n",
            " 30| o  \n",
            " 20| o  o  \n",
            " 10| o  o  \n",
            "  0| o  o  o  \n",
            "    ----------\n",
            "     F  C  A  \n",
            "     o  l  u  \n",
            "     o  o  t  \n",
            "     d  t  o  \n",
            "        h     \n",
            "        i     \n",
            "        n     \n",
            "        g     \n",
            "\n",
            "70\n"
          ]
        }
      ]
    },
    {
      "cell_type": "code",
      "source": [],
      "metadata": {
        "id": "Nlq9amJpYwnq"
      },
      "execution_count": null,
      "outputs": []
    }
  ]
}