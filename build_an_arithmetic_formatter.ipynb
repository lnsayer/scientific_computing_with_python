{
 "cells": [
  {
   "cell_type": "code",
   "execution_count": 1,
   "id": "ef933e3b-3f94-44e4-b97c-166fa423897f",
   "metadata": {},
   "outputs": [
    {
     "name": "stdout",
     "output_type": "stream",
     "text": [
      "    32 \n",
      " + 698 \n",
      " ----- \n",
      "   730\n",
      "   3801 \n",
      " -    2 \n",
      " ------ \n",
      "   3799\n",
      "   45 \n",
      " + 43 \n",
      " ---- \n",
      "   88\n",
      "  123 \n",
      " + 49 \n",
      " ---- \n",
      "  172\n"
     ]
    }
   ],
   "source": [
    "def arithmetic_arranger(problems, show_answers=True):\n",
    "    if len(problems)>5:\n",
    "        return 'Error: Too many problems.'\n",
    "    \n",
    "    for calculation in problems:\n",
    "        elements = calculation.split(' ')\n",
    "        \n",
    "        w1 = len(elements[0])\n",
    "        w2 = len(elements[2])\n",
    "        # print(f\"w2 is {w2}\")\n",
    "        width = len(max([elements[0], elements[2]]))\n",
    "        # print(f\"width = {width}\")\n",
    "        num_1 = int(elements[0])\n",
    "        op = elements[1]\n",
    "        num_2 = int(elements[2])\n",
    "\n",
    "        if op == '+':\n",
    "            result = num_1+num_2\n",
    "        elif op == '-':\n",
    "            result = num_1-num_2\n",
    "        else: \n",
    "            return \"Error: Operator must be '+' or '-'.\"\n",
    "\n",
    "        # print(second_line_gap_size)\n",
    "        second_line_gap = \" \"*(width+1-w2)\n",
    "\n",
    "        \n",
    "        second_line = op+second_line_gap+elements[2]\n",
    "        dashes = \"-\" * (width + 2)\n",
    "\n",
    "        if show_answers:\n",
    "            equation = '{:>{w1}} \\n {:>{w2}} \\n {} \\n {:>{w3}}'.format(elements[0], second_line, dashes, result , w1 = width+3, w2 = w2, w3 = (width+2))\n",
    "            print(equation)\n",
    "            \n",
    "        else:\n",
    "            equation = '{:>{w1}} \\n {:>{w2}} \\n {}'.format(elements[0], second_line, dashes , w1 = width+3, w2 = w2)\n",
    "            print(equation)\n",
    "\n",
    "arithmetic_arranger([\"32 + 698\", \"3801 - 2\", \"45 + 43\", \"123 + 49\"])"
   ]
  },
  {
   "cell_type": "code",
   "execution_count": null,
   "id": "b55120c8-3c37-4129-aee3-dd564e93aa37",
   "metadata": {},
   "outputs": [],
   "source": []
  }
 ],
 "metadata": {
  "kernelspec": {
   "display_name": "Python 3 (ipykernel)",
   "language": "python",
   "name": "python3"
  },
  "language_info": {
   "codemirror_mode": {
    "name": "ipython",
    "version": 3
   },
   "file_extension": ".py",
   "mimetype": "text/x-python",
   "name": "python",
   "nbconvert_exporter": "python",
   "pygments_lexer": "ipython3",
   "version": "3.12.2"
  }
 },
 "nbformat": 4,
 "nbformat_minor": 5
}
