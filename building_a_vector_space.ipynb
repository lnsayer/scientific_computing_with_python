{
  "nbformat": 4,
  "nbformat_minor": 0,
  "metadata": {
    "colab": {
      "provenance": [],
      "authorship_tag": "ABX9TyON9+ANYwN9PMNaLGb91EJc"
    },
    "kernelspec": {
      "name": "python3",
      "display_name": "Python 3"
    },
    "language_info": {
      "name": "python"
    }
  },
  "cells": [
    {
      "cell_type": "code",
      "execution_count": 1,
      "metadata": {
        "id": "JFTq7sjmhKwo"
      },
      "outputs": [],
      "source": [
        "class R2Vector:\n",
        "    def __init__(self, *, x, y):\n",
        "        self.x = x\n",
        "        self.y = y\n",
        "\n",
        "    def norm(self):\n",
        "        return sum(val**2 for val in vars(self).values())**0.5\n",
        "\n",
        "    def __str__(self):\n",
        "        return str(tuple(getattr(self, i) for i in vars(self)))\n",
        "\n",
        "    def __repr__(self):\n",
        "        arg_list = [f'{key}={val}' for key, val in vars(self).items()]\n",
        "        args = ', '.join(arg_list)\n",
        "        return f'{self.__class__.__name__}({args})'\n",
        "\n",
        "    def __add__(self, other):\n",
        "        if type(self) != type(other):\n",
        "            return NotImplemented\n",
        "        kwargs = {i: getattr(self, i) + getattr(other, i) for i in vars(self)}\n",
        "        return self.__class__(**kwargs)\n",
        "\n",
        "    def __sub__(self, other):\n",
        "        if type(self) != type(other):\n",
        "            return NotImplemented\n",
        "        kwargs = {i: getattr(self, i) - getattr(other, i) for i in vars(self)}\n",
        "        return self.__class__(**kwargs)\n",
        "\n",
        "    def __mul__(self, other):\n",
        "        if type(other) in (int, float):\n",
        "            kwargs = {i: getattr(self, i) * other for i in vars(self)}\n",
        "            return self.__class__(**kwargs)\n",
        "        elif type(self) == type(other):\n",
        "            args = [getattr(self, i) * getattr(other, i) for i in vars(self)]\n",
        "            return sum(args)\n",
        "        return NotImplemented\n",
        "\n",
        "    def __eq__(self, other):\n",
        "        if type(self) != type(other):\n",
        "            return NotImplemented\n",
        "        return all(getattr(self, i) == getattr(other, i) for i in vars(self))\n",
        "\n",
        "    def __ne__(self, other):\n",
        "        return not self == other\n",
        "\n",
        "    def __lt__(self, other):\n",
        "        if type(self) != type(other):\n",
        "            return NotImplemented\n",
        "        return self.norm() < other.norm()\n",
        "\n",
        "    def __gt__(self, other):\n",
        "        if type(self) != type(other):\n",
        "            return NotImplemented\n",
        "        return self.norm() > other.norm()\n",
        "\n",
        "    def __le__(self, other):\n",
        "        return not self > other\n",
        "\n",
        "    def __ge__(self, other):\n",
        "        return not self < other\n",
        "\n",
        "class R3Vector(R2Vector):\n",
        "    def __init__(self, *, x, y, z):\n",
        "        super().__init__(x=x, y=y)\n",
        "        self.z = z\n",
        "\n",
        "    def cross(self, other):\n",
        "        if type(self) != type(other):\n",
        "            return NotImplemented\n",
        "        kwargs = {\n",
        "            'x': self.y * other.z - self.z * other.y,\n",
        "            'y': self.z * other.x - self.x * other.z,\n",
        "            'z': self.x * other.y - self.y * other.x\n",
        "        }\n",
        "\n",
        "        return self.__class__(**kwargs)"
      ]
    },
    {
      "cell_type": "code",
      "source": [
        "v1 = R3Vector(x=2, y=3, z=1)\n",
        "v2 = R3Vector(x=0.5, y=1.25, z=2)\n",
        "print(f'v1 = {v1}')\n",
        "print(f'v2 = {v2}')\n",
        "v3 = v1 + v2\n",
        "print(f'v1 + v2 = {v3}')\n",
        "v4 = v1 - v2\n",
        "print(f'v1 - v2 = {v4}')\n",
        "v5 = v1 * v2\n",
        "print(f'v1 * v2 = {v5}')\n",
        "v6 = v1.cross(v2)"
      ],
      "metadata": {
        "colab": {
          "base_uri": "https://localhost:8080/"
        },
        "id": "5F6rRc_MhQHL",
        "outputId": "b2c161d2-6503-4799-97ed-34f2c6350088"
      },
      "execution_count": 2,
      "outputs": [
        {
          "output_type": "stream",
          "name": "stdout",
          "text": [
            "v1 = (2, 3, 1)\n",
            "v2 = (0.5, 1.25, 2)\n",
            "v1 + v2 = (2.5, 4.25, 3)\n",
            "v1 - v2 = (1.5, 1.75, -1)\n",
            "v1 * v2 = 6.75\n"
          ]
        }
      ]
    },
    {
      "cell_type": "code",
      "source": [],
      "metadata": {
        "id": "P65sTZGohTev"
      },
      "execution_count": null,
      "outputs": []
    }
  ]
}