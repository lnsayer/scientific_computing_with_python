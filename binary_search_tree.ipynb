{
  "nbformat": 4,
  "nbformat_minor": 0,
  "metadata": {
    "colab": {
      "provenance": [],
      "authorship_tag": "ABX9TyPRm9wCpil6RBm86b6hKCko"
    },
    "kernelspec": {
      "name": "python3",
      "display_name": "Python 3"
    },
    "language_info": {
      "name": "python"
    }
  },
  "cells": [
    {
      "cell_type": "code",
      "execution_count": 1,
      "metadata": {
        "id": "3546ovd4o08f"
      },
      "outputs": [],
      "source": [
        "class TreeNode:\n",
        "\n",
        "    def __init__(self, key):\n",
        "        self.key = key\n",
        "        self.left = None\n",
        "        self.right = None\n",
        "\n",
        "    def __str__(self):\n",
        "        return str(self.key)\n",
        "\n",
        "class BinarySearchTree:\n",
        "\n",
        "    def __init__(self):\n",
        "        self.root = None\n",
        "\n",
        "    def _insert(self, node, key):\n",
        "        if node is None:\n",
        "            return TreeNode(key)\n",
        "\n",
        "        if key < node.key:\n",
        "            node.left = self._insert(node.left, key)\n",
        "        elif key > node.key:\n",
        "\n",
        "            node.right = self._insert(node.right, key)\n",
        "        return node\n",
        "\n",
        "    def insert(self, key):\n",
        "        self.root = self._insert(self.root, key)\n",
        "\n",
        "    def _search(self, node, key):\n",
        "        if node is None or node.key == key:\n",
        "            return node\n",
        "        if key < node.key:\n",
        "            return self._search(node.left, key)\n",
        "        return self._search(node.right, key)\n",
        "\n",
        "    def search(self, key):\n",
        "        return self._search(self.root, key)\n",
        "\n",
        "    def _delete(self, node, key):\n",
        "        if node is None:\n",
        "            return node\n",
        "        if key < node.key:\n",
        "            node.left = self._delete(node.left, key)\n",
        "        elif key > node.key:\n",
        "            node.right = self._delete(node.right, key)\n",
        "        else:\n",
        "            if node.left is None:\n",
        "                return node.right\n",
        "            elif node.right is None:\n",
        "                return node.left\n",
        "\n",
        "            node.key = self._min_value(node.right)\n",
        "            node.right = self._delete(node.right, node.key)\n",
        "\n",
        "        return node\n",
        "\n",
        "    def delete(self, key):\n",
        "        self.root = self._delete(self.root, key)\n",
        "\n",
        "    def _min_value(self, node):\n",
        "        while node.left is not None:\n",
        "            node = node.left\n",
        "        return node.key\n",
        "\n",
        "    def _inorder_traversal(self, node, result):\n",
        "        if node:\n",
        "            self._inorder_traversal(node.left, result)\n",
        "            result.append(node.key)\n",
        "            self._inorder_traversal(node.right, result)\n",
        "\n",
        "    def inorder_traversal(self):\n",
        "        result = []\n",
        "        self._inorder_traversal(self.root, result)\n",
        "        return result"
      ]
    },
    {
      "cell_type": "code",
      "source": [
        "bst = BinarySearchTree()\n",
        "nodes = [50, 30, 20, 40, 70, 60, 80]\n",
        "\n",
        "for node in nodes:\n",
        "    bst.insert(node)\n",
        "\n",
        "print('Search for 80:', bst.search(80))\n",
        "\n",
        "print(\"Inorder traversal:\", bst.inorder_traversal())\n",
        "\n",
        "bst.delete(40)\n",
        "\n",
        "print(\"Search for 40:\", bst.search(40))"
      ],
      "metadata": {
        "colab": {
          "base_uri": "https://localhost:8080/"
        },
        "id": "xcOl8Ck9o7J9",
        "outputId": "b9895376-a6c5-46f8-f314-ced80f4e1110"
      },
      "execution_count": 2,
      "outputs": [
        {
          "output_type": "stream",
          "name": "stdout",
          "text": [
            "Search for 80: 80\n",
            "Inorder traversal: [20, 30, 40, 50, 60, 70, 80]\n",
            "Search for 40: None\n"
          ]
        }
      ]
    },
    {
      "cell_type": "code",
      "source": [],
      "metadata": {
        "id": "FPHCzk1Mo-Iw"
      },
      "execution_count": null,
      "outputs": []
    }
  ]
}