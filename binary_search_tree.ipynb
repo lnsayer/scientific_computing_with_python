{
  "nbformat": 4,
  "nbformat_minor": 0,
  "metadata": {
    "colab": {
      "provenance": [],
      "authorship_tag": "ABX9TyNnkpR/JZQ/kn0GzY2IoDzF",
      "include_colab_link": true
    },
    "kernelspec": {
      "name": "python3",
      "display_name": "Python 3"
    },
    "language_info": {
      "name": "python"
    }
  },
  "cells": [
    {
      "cell_type": "markdown",
      "metadata": {
        "id": "view-in-github",
        "colab_type": "text"
      },
      "source": [
        "<a href=\"https://colab.research.google.com/github/lnsayer/scientific_computing_with_python/blob/main/binary_search_tree.ipynb\" target=\"_parent\"><img src=\"https://colab.research.google.com/assets/colab-badge.svg\" alt=\"Open In Colab\"/></a>"
      ]
    },
    {
      "cell_type": "code",
      "execution_count": 16,
      "metadata": {
        "id": "3546ovd4o08f"
      },
      "outputs": [],
      "source": [
        "class TreeNode:\n",
        "\n",
        "    def __init__(self, key):\n",
        "        self.key = key\n",
        "        self.left = None\n",
        "        self.right = None\n",
        "\n",
        "    def __str__(self):\n",
        "        return str(self.key)\n",
        "\n",
        "class BinarySearchTree:\n",
        "\n",
        "    # sets the self.root as None\n",
        "    def __init__(self):\n",
        "        self.root = None\n",
        "\n",
        "    # Contains the logic of the insert method\n",
        "    # If goes left and right through the nodes until a node's children(left or right) are empty\n",
        "    # Then it will return a new node TreeNode(key). It will go back up the recursion ladder\n",
        "    # returning node to set node.left or node.right.\n",
        "    def _insert(self, node, key):\n",
        "        if node is None:\n",
        "            return TreeNode(key)\n",
        "\n",
        "        if key < node.key:\n",
        "            node.left = self._insert(node.left, key)\n",
        "        elif key > node.key:\n",
        "            node.right = self._insert(node.right, key)\n",
        "        return node\n",
        "\n",
        "    # Public method of insert\n",
        "    def insert(self, key):\n",
        "        self.root = self._insert(self.root, key)\n",
        "\n",
        "    # Private method of search.\n",
        "    # Will start at the root of the tree. If the current node is None or matches the key\n",
        "    # we are searching for, it returns the node. Otherwise it keeps going down left, right\n",
        "    # looking for the correct node.\n",
        "    def _search(self, node, key):\n",
        "        if node is None or node.key == key:\n",
        "            return node\n",
        "        if key < node.key:\n",
        "            return self._search(node.left, key)\n",
        "        return self._search(node.right, key)\n",
        "\n",
        "    # Public method of search\n",
        "    def search(self, key):\n",
        "        return self._search(self.root, key)\n",
        "\n",
        "    # Private method of delete. Goes through the nodes until it finds the node with the correct key\n",
        "    # Then it encounters four cases:\n",
        "    # 1. It does not have a left or right child, in which case it is replaced by None\n",
        "    # 2. It does not have a left child, but does have a right child, it is replaced by right\n",
        "    # 3. It does not have a right child, but does have a left child, in which case it is replaced by the left child\n",
        "    # 4. It has two children. Then, it is replaced by minimum value on its right child (will be the next biggest value)\n",
        "    # That child it is replaced by is deleted.\n",
        "    def _delete(self, node, key):\n",
        "        if node is None:\n",
        "            return node\n",
        "        if key < node.key:\n",
        "            node.left = self._delete(node.left, key)\n",
        "        elif key > node.key:\n",
        "            node.right = self._delete(node.right, key)\n",
        "        else:\n",
        "            if node.left is None:\n",
        "                return node.right\n",
        "            elif node.right is None:\n",
        "                return node.left\n",
        "\n",
        "            node.key = self._min_value(node.right)\n",
        "            node.right = self._delete(node.right, node.key)\n",
        "\n",
        "        return node\n",
        "\n",
        "    # Public method of _delete function\n",
        "    def delete(self, key):\n",
        "        self.root = self._delete(self.root, key)\n",
        "\n",
        "    # Finds the minimum value on a node's right child's subtree (will be the next biggest node in the whole tree)\n",
        "    def _min_value(self, node):\n",
        "        while node.left is not None:\n",
        "            node = node.left\n",
        "        return node.key\n",
        "\n",
        "    #\n",
        "    def _inorder_traversal(self, node, result):\n",
        "        print(f\"if node ({node})\")\n",
        "        if node:\n",
        "            print(f\"self._inorder_traversal(node.left({node.left}), result({result}))\")\n",
        "            self._inorder_traversal(node.left, result)\n",
        "            print(f\"result.append(node.key({node.key}))\")\n",
        "            result.append(node.key)\n",
        "            print(f\"self._inorder_traversal(node.right({node.right}), result({result}))\")\n",
        "            self._inorder_traversal(node.right, result)\n",
        "\n",
        "    def inorder_traversal(self):\n",
        "        result = []\n",
        "        self._inorder_traversal(self.root, result)\n",
        "        return result"
      ]
    },
    {
      "cell_type": "code",
      "source": [
        "bst = BinarySearchTree()\n",
        "nodes = [50, 30, 20, 40, 70, 60, 80]\n",
        "\n",
        "for node in nodes:\n",
        "    bst.insert(node)\n",
        "\n",
        "print('Search for 80:', bst.search(80), '\\n')\n",
        "\n",
        "print(\"Inorder traversal:\", bst.inorder_traversal())\n",
        "\n",
        "bst.delete(40)\n",
        "\n",
        "print(\"Search for 40:\", bst.search(40))"
      ],
      "metadata": {
        "colab": {
          "base_uri": "https://localhost:8080/"
        },
        "id": "xcOl8Ck9o7J9",
        "outputId": "1a6775b5-e849-4313-ff92-ea07fcb9b6fd"
      },
      "execution_count": 17,
      "outputs": [
        {
          "output_type": "stream",
          "name": "stdout",
          "text": [
            "Search for 80: 80 \n",
            "\n",
            "if node (50)\n",
            "self._inorder_traversal(node.left(30), result([]))\n",
            "if node (30)\n",
            "self._inorder_traversal(node.left(20), result([]))\n",
            "if node (20)\n",
            "self._inorder_traversal(node.left(None), result([]))\n",
            "if node (None)\n",
            "result.append(node.key(20))\n",
            "self._inorder_traversal(node.right(None), result([20]))\n",
            "if node (None)\n",
            "result.append(node.key(30))\n",
            "self._inorder_traversal(node.right(40), result([20, 30]))\n",
            "if node (40)\n",
            "self._inorder_traversal(node.left(None), result([20, 30]))\n",
            "if node (None)\n",
            "result.append(node.key(40))\n",
            "self._inorder_traversal(node.right(None), result([20, 30, 40]))\n",
            "if node (None)\n",
            "result.append(node.key(50))\n",
            "self._inorder_traversal(node.right(70), result([20, 30, 40, 50]))\n",
            "if node (70)\n",
            "self._inorder_traversal(node.left(60), result([20, 30, 40, 50]))\n",
            "if node (60)\n",
            "self._inorder_traversal(node.left(None), result([20, 30, 40, 50]))\n",
            "if node (None)\n",
            "result.append(node.key(60))\n",
            "self._inorder_traversal(node.right(None), result([20, 30, 40, 50, 60]))\n",
            "if node (None)\n",
            "result.append(node.key(70))\n",
            "self._inorder_traversal(node.right(80), result([20, 30, 40, 50, 60, 70]))\n",
            "if node (80)\n",
            "self._inorder_traversal(node.left(None), result([20, 30, 40, 50, 60, 70]))\n",
            "if node (None)\n",
            "result.append(node.key(80))\n",
            "self._inorder_traversal(node.right(None), result([20, 30, 40, 50, 60, 70, 80]))\n",
            "if node (None)\n",
            "Inorder traversal: [20, 30, 40, 50, 60, 70, 80]\n",
            "Search for 40: None\n"
          ]
        }
      ]
    },
    {
      "cell_type": "code",
      "source": [
        "bst2 = BinarySearchTree()\n",
        "print(f'Search for 69: {bst.search(69)}')"
      ],
      "metadata": {
        "id": "FPHCzk1Mo-Iw",
        "colab": {
          "base_uri": "https://localhost:8080/"
        },
        "outputId": "30c5bb72-e0bd-4519-8815-ea043bd49464"
      },
      "execution_count": 4,
      "outputs": [
        {
          "output_type": "stream",
          "name": "stdout",
          "text": [
            "Search for 69: None\n"
          ]
        }
      ]
    },
    {
      "cell_type": "code",
      "source": [],
      "metadata": {
        "id": "FvFM-P2G4l-Q"
      },
      "execution_count": null,
      "outputs": []
    }
  ]
}