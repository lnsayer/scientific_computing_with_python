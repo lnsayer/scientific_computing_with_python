{
 "cells": [
  {
   "cell_type": "code",
   "execution_count": 10,
   "id": "c01ad30a-0b33-4390-91b6-787491a03285",
   "metadata": {},
   "outputs": [
    {
     "name": "stdout",
     "output_type": "stream",
     "text": [
      "21\n"
     ]
    }
   ],
   "source": [
    "def verify_card(card_number):\n",
    "    reversed_card = card_number[::-1]\n",
    "    odd_numbers = reversed_card[::2]\n",
    "    even_numbers = reversed_card[1::2]\n",
    "\n",
    "    # Sum odd numbers\n",
    "    sum_odd_numbers = sum(odd_numbers)\n",
    "    sum_even_numbers = 0\n",
    "\n",
    "    # Double even numbers then calculate the sum of the digits\n",
    "    for num in even_numbers:\n",
    "        num *= 2\n",
    "        if num >= 10:\n",
    "            num = sum(num//10 + num % 10)\n",
    "        sum_even_numbers += num\n",
    "    total_sum = sum_odd_numbers + sum_even_numbers\n",
    "\n",
    "    return total_sum \n",
    "\n",
    "\n",
    "\n",
    "\n",
    "\n",
    "\n",
    "card_number = '4111-1681-4555-2942'\n",
    "print(verify_card([1, 2, 3, 4, 5]))"
   ]
  }
 ],
 "metadata": {
  "kernelspec": {
   "display_name": "Python 3 (ipykernel)",
   "language": "python",
   "name": "python3"
  },
  "language_info": {
   "codemirror_mode": {
    "name": "ipython",
    "version": 3
   },
   "file_extension": ".py",
   "mimetype": "text/x-python",
   "name": "python",
   "nbconvert_exporter": "python",
   "pygments_lexer": "ipython3",
   "version": "3.12.2"
  }
 },
 "nbformat": 4,
 "nbformat_minor": 5
}
