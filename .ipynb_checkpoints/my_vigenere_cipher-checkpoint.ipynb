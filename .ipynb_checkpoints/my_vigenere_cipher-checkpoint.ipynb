{
 "cells": [
  {
   "cell_type": "code",
   "execution_count": 5,
   "id": "1edffe1c-16c6-4343-b751-5f4411c29be3",
   "metadata": {},
   "outputs": [
    {
     "name": "stdout",
     "output_type": "stream",
     "text": [
      "Hi mum how are you today?\n",
      "iw nvx fgd off mpv emvhm?\n",
      "hi mum how are you today?\n"
     ]
    }
   ],
   "source": [
    "custom_message = \"Hi mum how are you today?\"\n",
    "custom_key = \"bobblyshoo\"\n",
    "alphabet = 'abcdefghijklmnopqrstuvwxyz'\n",
    "\n",
    "def vigenere_cipher(message, key, direction = 1):\n",
    "    key_index = 0\n",
    "    final_message = ''\n",
    "    message = message.lower()\n",
    "    \n",
    "    for char in message:\n",
    "        if not char.isalpha():\n",
    "            final_message += char\n",
    "        else:\n",
    "            key_char = key[key_index % len(key)]\n",
    "            key_index += 1\n",
    "            # print(\"key_char\", key_char)\n",
    "            offset = alphabet.index(key_char)\n",
    "            # print(\"offset\", offset)\n",
    "            # print(\"message.index(char)\", alphabet.index(char))\n",
    "            new_char = alphabet[(alphabet.index(char) + offset*direction)%26]\n",
    "            # print(\"new_char\", new_char)\n",
    "            final_message += new_char\n",
    "            \n",
    "    return final_message\n",
    "\n",
    "def vigenere_encoder(message, key):\n",
    "    return vigenere_cipher(message, key)\n",
    "def vigenere_decoder(message, key):\n",
    "    return vigenere_cipher(message, key, direction=-1)\n",
    "\n",
    "        \n",
    "\n",
    "\n",
    "print(custom_message)\n",
    "encoded_message = vigenere_encoder(custom_message, custom_key)\n",
    "print(encoded_message)\n",
    "decoded_message = vigenere_decoder(encoded_message, custom_key)\n",
    "print(decoded_message)\n",
    "        "
   ]
  },
  {
   "cell_type": "code",
   "execution_count": null,
   "id": "b32b820d-1110-40a4-b3d5-a6a59b1a92e3",
   "metadata": {},
   "outputs": [],
   "source": []
  },
  {
   "cell_type": "code",
   "execution_count": null,
   "id": "341cc516-a652-49bd-b813-9870c3b5cf06",
   "metadata": {},
   "outputs": [],
   "source": []
  }
 ],
 "metadata": {
  "kernelspec": {
   "display_name": "Python 3 (ipykernel)",
   "language": "python",
   "name": "python3"
  },
  "language_info": {
   "codemirror_mode": {
    "name": "ipython",
    "version": 3
   },
   "file_extension": ".py",
   "mimetype": "text/x-python",
   "name": "python",
   "nbconvert_exporter": "python",
   "pygments_lexer": "ipython3",
   "version": "3.12.2"
  }
 },
 "nbformat": 4,
 "nbformat_minor": 5
}
