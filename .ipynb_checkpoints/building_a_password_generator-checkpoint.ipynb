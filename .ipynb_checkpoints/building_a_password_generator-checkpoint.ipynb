{
 "cells": [
  {
   "cell_type": "code",
   "execution_count": 9,
   "id": "fd428c6d-0661-4ea9-8cca-e1b08811bbfa",
   "metadata": {},
   "outputs": [],
   "source": [
    "import re\n",
    "import secrets\n",
    "import string\n",
    "\n",
    "def generate_password(length=16, nums=1, special_chars=1, uppercase=1, lowercase=1):\n",
    "\n",
    "    # Define the possible characters for the password\n",
    "    letters = string.ascii_letters\n",
    "    digits = string.digits\n",
    "    symbols = string.punctuation\n",
    "\n",
    "    # Combine all characters\n",
    "    all_characters = letters + digits + symbols\n",
    "    # print(all_characters)\n",
    "\n",
    "    while True:\n",
    "        password = ''\n",
    "        # Generate password\n",
    "        for _ in range(length):\n",
    "            password += secrets.choice(all_characters)\n",
    "        \n",
    "        constraints = [\n",
    "            (nums, r'\\d'),\n",
    "            (special_chars, fr'[{symbols}]'),\n",
    "            (uppercase, r'[A-Z]'),\n",
    "            (lowercase, r'[a-z]')\n",
    "        ]\n",
    "\n",
    "        # Check constraints        \n",
    "        if all(\n",
    "            constraint <= len(re.findall(pattern, password))\n",
    "            for constraint, pattern in constraints\n",
    "        ):\n",
    "            break\n",
    "    \n",
    "    return password"
   ]
  },
  {
   "cell_type": "code",
   "execution_count": 8,
   "id": "0e0ec969-6a74-4d65-868d-0d652d9a034a",
   "metadata": {},
   "outputs": [
    {
     "name": "stdout",
     "output_type": "stream",
     "text": [
      "abcdefghijklmnopqrstuvwxyzABCDEFGHIJKLMNOPQRSTUVWXYZ 0123456789 !\"#$%&'()*+,-./:;<=>?@[\\]^_`{|}~\n",
      "Generated password: }2Mme1oQ]+>Bmoi<\n"
     ]
    }
   ],
   "source": [
    "if __name__ == '__main__':\n",
    "    new_password = generate_password()\n",
    "    print('Generated password:', new_password)"
   ]
  },
  {
   "cell_type": "code",
   "execution_count": 20,
   "id": "d322c489-0ad9-4b7f-8127-4b51ab6d58b3",
   "metadata": {},
   "outputs": [
    {
     "name": "stdout",
     "output_type": "stream",
     "text": [
      "(1, '[a-z]')\n"
     ]
    }
   ],
   "source": [
    "nums=1\n",
    "special_chars=1\n",
    "uppercase=1\n",
    "lowercase=1\n",
    "symbols = string.punctuation\n",
    "constraints = [\n",
    "            (nums, r'\\d'),\n",
    "            (special_chars, fr'[{symbols}]'),\n",
    "            (uppercase, r'[A-Z]'),\n",
    "            (lowercase, r'[a-z]')\n",
    "]\n",
    "print(constraints[3])"
   ]
  },
  {
   "cell_type": "code",
   "execution_count": null,
   "id": "fe3073d7-a60f-49d8-ba18-6e32279d7026",
   "metadata": {},
   "outputs": [],
   "source": []
  }
 ],
 "metadata": {
  "kernelspec": {
   "display_name": "Python 3 (ipykernel)",
   "language": "python",
   "name": "python3"
  },
  "language_info": {
   "codemirror_mode": {
    "name": "ipython",
    "version": 3
   },
   "file_extension": ".py",
   "mimetype": "text/x-python",
   "name": "python",
   "nbconvert_exporter": "python",
   "pygments_lexer": "ipython3",
   "version": "3.12.2"
  }
 },
 "nbformat": 4,
 "nbformat_minor": 5
}
