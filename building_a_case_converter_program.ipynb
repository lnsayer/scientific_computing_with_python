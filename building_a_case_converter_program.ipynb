{
 "cells": [
  {
   "cell_type": "code",
   "execution_count": 1,
   "id": "4e6234cf-181f-4221-9f81-bf4346a639ce",
   "metadata": {},
   "outputs": [],
   "source": [
    "def convert_to_snake_case(pascal_or_camel_cased_string):\n",
    "\n",
    "    snake_cased_char_list = [\n",
    "        '_' + char.lower() if char.isupper()\n",
    "        else char\n",
    "        for char in pascal_or_camel_cased_string\n",
    "    ]\n",
    "\n",
    "    return ''.join(snake_cased_char_list).strip('_')"
   ]
  },
  {
   "cell_type": "code",
   "execution_count": 2,
   "id": "feaf6674-09b0-4674-8807-d61839061e53",
   "metadata": {},
   "outputs": [],
   "source": [
    "def main():\n",
    "    print(convert_to_snake_case('IAmAPascalCasedString'))"
   ]
  },
  {
   "cell_type": "code",
   "execution_count": 3,
   "id": "1a67f8a5-2014-4c48-a95a-bc6da30dae39",
   "metadata": {},
   "outputs": [
    {
     "name": "stdout",
     "output_type": "stream",
     "text": [
      "i_am_a_pascal_cased_string\n"
     ]
    }
   ],
   "source": [
    "if __name__ == '__main__':\n",
    "    main()"
   ]
  },
  {
   "cell_type": "code",
   "execution_count": null,
   "id": "a4f5f979-cc1b-4283-8cda-33fe32f90502",
   "metadata": {},
   "outputs": [],
   "source": []
  }
 ],
 "metadata": {
  "kernelspec": {
   "display_name": "Python 3 (ipykernel)",
   "language": "python",
   "name": "python3"
  },
  "language_info": {
   "codemirror_mode": {
    "name": "ipython",
    "version": 3
   },
   "file_extension": ".py",
   "mimetype": "text/x-python",
   "name": "python",
   "nbconvert_exporter": "python",
   "pygments_lexer": "ipython3",
   "version": "3.12.2"
  }
 },
 "nbformat": 4,
 "nbformat_minor": 5
}
