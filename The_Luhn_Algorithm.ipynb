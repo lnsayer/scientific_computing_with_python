{
 "cells": [
  {
   "cell_type": "code",
   "execution_count": 10,
   "id": "005ec066-e5de-489d-ab1a-4913c28d5117",
   "metadata": {},
   "outputs": [
    {
     "name": "stdout",
     "output_type": "stream",
     "text": [
      "Odd digits: 29551611\n",
      "Even digits: 42548114\n",
      "number 8\n",
      "number 4\n",
      "number 10\n",
      "number 10 number //10 1 number % 10 0\n",
      "number 8\n",
      "number 16\n",
      "number 16 number //10 1 number % 10 6\n",
      "number 2\n",
      "number 2\n",
      "number 8\n",
      "70\n",
      "VALID!\n"
     ]
    }
   ],
   "source": [
    "def verify_card_number(card_number):\n",
    "    sum_of_odd_digits = 0\n",
    "    card_number_reversed = card_number[::-1]\n",
    "    odd_digits = card_number_reversed[::2]\n",
    "    print(f\"Odd digits: {odd_digits}\")\n",
    "\n",
    "    for digit in odd_digits:\n",
    "        sum_of_odd_digits += int(digit)\n",
    "\n",
    "    sum_of_even_digits = 0\n",
    "    even_digits = card_number_reversed[1::2]\n",
    "    print(f\"Even digits: {even_digits}\")\n",
    "    for digit in even_digits:\n",
    "        number = int(digit) * 2\n",
    "        # print(\"number\", number)\n",
    "        if number >= 10:\n",
    "            # print(\"number\", number, \"number //10\", number //10, \"number % 10\", number % 10)\n",
    "            number = (number // 10) + (number % 10)\n",
    "        sum_of_even_digits += number\n",
    "    total = sum_of_odd_digits + sum_of_even_digits\n",
    "    print(total)\n",
    "    return total % 10 == 0\n",
    "\n",
    "def main():\n",
    "    card_number = '4111-1681-4555-2942'\n",
    "    card_translation = str.maketrans({'-': '', ' ': ''})\n",
    "    translated_card_number = card_number.translate(card_translation)\n",
    "\n",
    "    if verify_card_number(translated_card_number):\n",
    "        print('VALID!')\n",
    "    else:\n",
    "        print('INVALID!')\n",
    "\n",
    "main()"
   ]
  },
  {
   "cell_type": "code",
   "execution_count": 5,
   "id": "00b0cf85-2264-4c75-9060-df116aee8e97",
   "metadata": {},
   "outputs": [
    {
     "name": "stdout",
     "output_type": "stream",
     "text": [
      "1\n"
     ]
    }
   ],
   "source": []
  }
 ],
 "metadata": {
  "kernelspec": {
   "display_name": "Python 3 (ipykernel)",
   "language": "python",
   "name": "python3"
  },
  "language_info": {
   "codemirror_mode": {
    "name": "ipython",
    "version": 3
   },
   "file_extension": ".py",
   "mimetype": "text/x-python",
   "name": "python",
   "nbconvert_exporter": "python",
   "pygments_lexer": "ipython3",
   "version": "3.12.2"
  }
 },
 "nbformat": 4,
 "nbformat_minor": 5
}
