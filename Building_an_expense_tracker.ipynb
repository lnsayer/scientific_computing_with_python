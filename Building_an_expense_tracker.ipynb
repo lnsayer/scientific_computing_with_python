{
 "cells": [
  {
   "cell_type": "code",
   "execution_count": 1,
   "id": "6ce6308a-298d-424a-8e88-5597ca7a9719",
   "metadata": {},
   "outputs": [],
   "source": [
    "def add_expense(expenses, amount, category):\n",
    "    expenses.append({'amount': amount, 'category': category})\n",
    "    \n",
    "def print_expenses(expenses):\n",
    "    for expense in expenses:\n",
    "        print(f'Amount: {expense[\"amount\"]}, Category: {expense[\"category\"]}')\n",
    "    \n",
    "def total_expenses(expenses):\n",
    "    return sum(map(lambda expense: expense['amount'], expenses))\n",
    "    \n",
    "def filter_expenses_by_category(expenses, category):\n",
    "    return filter(lambda expense: expense['category'] == category, expenses)"
   ]
  },
  {
   "cell_type": "code",
   "execution_count": 2,
   "id": "bf78021f-91d7-4163-8ffc-05dacc0522d2",
   "metadata": {},
   "outputs": [],
   "source": [
    "def main():\n",
    "    expenses = []\n",
    "    while True:\n",
    "        print('\\nExpense Tracker')\n",
    "        print('1. Add an expense')\n",
    "        print('2. List all expenses')\n",
    "        print('3. Show total expenses')\n",
    "        print('4. Filter expenses by category')\n",
    "        print('5. Exit')\n",
    "        \n",
    "        choice = input('Enter your choice: ')\n",
    "\n",
    "        if choice == '1':\n",
    "            amount = float(input('Enter amount: '))\n",
    "            category = input('Enter category: ')\n",
    "            add_expense(expenses, amount, category)\n",
    "\n",
    "        elif choice == '2':\n",
    "            print('\\nAll Expenses:')\n",
    "            print_expenses(expenses)\n",
    "\n",
    "        elif choice == '3':\n",
    "            print('\\nTotal Expenses: ', total_expenses(expenses))\n",
    "\n",
    "        elif choice == '4':\n",
    "            category = input('Enter category to filter: ')\n",
    "            print(f'\\nExpenses for {category}:')\n",
    "            expenses_from_category = filter_expenses_by_category(expenses, category)\n",
    "            print_expenses(expenses_from_category)\n",
    "\n",
    "        elif choice == '5':\n",
    "            print('Exiting the program.')\n",
    "            break"
   ]
  },
  {
   "cell_type": "code",
   "execution_count": 3,
   "id": "26e7ff84-6f9f-4de3-bff2-2f8868a146fc",
   "metadata": {},
   "outputs": [
    {
     "name": "stdout",
     "output_type": "stream",
     "text": [
      "\n",
      "Expense Tracker\n",
      "1. Add an expense\n",
      "2. List all expenses\n",
      "3. Show total expenses\n",
      "4. Filter expenses by category\n",
      "5. Exit\n"
     ]
    },
    {
     "name": "stdin",
     "output_type": "stream",
     "text": [
      "Enter your choice:  5\n"
     ]
    },
    {
     "name": "stdout",
     "output_type": "stream",
     "text": [
      "Exiting the program.\n"
     ]
    }
   ],
   "source": [
    "if __name__ == '__main__':\n",
    "    main()"
   ]
  },
  {
   "cell_type": "code",
   "execution_count": null,
   "id": "e7b8de93-4757-4bf3-a921-5f7b4378588f",
   "metadata": {},
   "outputs": [],
   "source": []
  }
 ],
 "metadata": {
  "kernelspec": {
   "display_name": "Python 3 (ipykernel)",
   "language": "python",
   "name": "python3"
  },
  "language_info": {
   "codemirror_mode": {
    "name": "ipython",
    "version": 3
   },
   "file_extension": ".py",
   "mimetype": "text/x-python",
   "name": "python",
   "nbconvert_exporter": "python",
   "pygments_lexer": "ipython3",
   "version": "3.12.2"
  }
 },
 "nbformat": 4,
 "nbformat_minor": 5
}
